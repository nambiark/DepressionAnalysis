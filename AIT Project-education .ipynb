{
 "cells": [
  {
   "cell_type": "markdown",
   "id": "714bc18d",
   "metadata": {},
   "source": [
    "How level of education of a person can influence depression factor?"
   ]
  },
  {
   "cell_type": "code",
   "execution_count": 82,
   "id": "c64dfc22",
   "metadata": {},
   "outputs": [],
   "source": [
    "import pandas as pd"
   ]
  },
  {
   "cell_type": "code",
   "execution_count": 83,
   "id": "c5dca4d2",
   "metadata": {},
   "outputs": [],
   "source": [
    "df = pd.read_excel(\"/Users/kirtananambiar/Desktop/ProjectAIT/MentalhealthData.xlsx\", sheet_name=None)"
   ]
  },
  {
   "cell_type": "code",
   "execution_count": 84,
   "id": "36617bf4",
   "metadata": {},
   "outputs": [
    {
     "name": "stdout",
     "output_type": "stream",
     "text": [
      "dict_keys(['prevalence-by-mental-and-substa', 'depression-by-level-of-educatio', 'prevalence-of-depression-by-age', 'prevalence-of-depression-males-', 'suicide-rates-vs-prevalence-of-', 'number-with-depression-by-count'])\n"
     ]
    }
   ],
   "source": [
    "print(df.keys())"
   ]
  },
  {
   "cell_type": "code",
   "execution_count": 85,
   "id": "272cd85d",
   "metadata": {},
   "outputs": [],
   "source": [
    "##Reading input files\n",
    "depressionEducation = pd.read_csv(\"/Users/kirtananambiar/Desktop/ProjectAIT/EducationDepression.csv\")\n",
    "\n",
    "depressionCount = pd.read_excel(\"/Users/kirtananambiar/Desktop/ProjectAIT/MentalhealthData.xlsx\", sheet_name=\"number-with-depression-by-count\")"
   ]
  },
  {
   "cell_type": "code",
   "execution_count": 86,
   "id": "4ee8bb1a",
   "metadata": {},
   "outputs": [
    {
     "data": {
      "text/plain": [
       "COUNTRY              0\n",
       "Country              0\n",
       "ISC11A               0\n",
       "ISCED-A 2011         0\n",
       "SEX                  0\n",
       "Gender               0\n",
       "AGE                  0\n",
       "Age                  0\n",
       "PIAAC_CATEGORY       0\n",
       "Category             0\n",
       "INDICATOR            0\n",
       "Indicator            0\n",
       "MEASURE              0\n",
       "Measure              0\n",
       "YEAR                 0\n",
       "Reference year       0\n",
       "Value               26\n",
       "Flag Codes        2782\n",
       "Flags             2782\n",
       "dtype: int64"
      ]
     },
     "execution_count": 86,
     "metadata": {},
     "output_type": "execute_result"
    }
   ],
   "source": [
    "##finding missing values if any\n",
    "depressionEducation.isna().sum()"
   ]
  },
  {
   "cell_type": "code",
   "execution_count": 87,
   "id": "0ca1177f",
   "metadata": {},
   "outputs": [],
   "source": [
    "##Data preprocessing \n",
    "\n",
    "##Selecting columns of interest\n",
    "depressionEducation = depressionEducation[['Country','ISCED-A 2011','Gender','Age','Category','YEAR','Value']]\n",
    "df = depressionEducation[depressionEducation['Gender'].isin(['Women','Men'])]\n",
    "\n",
    "df = df[df['Category'].isin(['Employed','Active'])]\n",
    "df = df[df['Age']!='25-64 years']"
   ]
  },
  {
   "cell_type": "code",
   "execution_count": 88,
   "id": "2f21bfb6",
   "metadata": {},
   "outputs": [],
   "source": [
    "##Left join to get total population of depressed people\n",
    "\n",
    "merged_data = pd.merge(df,depressionCount[depressionCount['Year']==2014],how=\"left\",left_on=[\"Country\",\"YEAR\"],\n",
    "            right_on=[\"Entity\",\"Year\"], suffixes=('', '_drop'))\n",
    "merged_data.drop([col for col in merged_data.columns if 'drop' in col], axis=1, inplace=True)\n",
    "\n",
    "merged_data = merged_data.rename(columns={\"Prevalence - Depressive disorders - Sex: Both - Age: All Ages (Number) (people suffering from depression)\": \"Prevalence\"})\n",
    "merged_data = merged_data.drop(columns=['Code','Year','Entity','YEAR'])"
   ]
  },
  {
   "cell_type": "code",
   "execution_count": 89,
   "id": "83a6225e",
   "metadata": {},
   "outputs": [
    {
     "data": {
      "text/html": [
       "<div>\n",
       "<style scoped>\n",
       "    .dataframe tbody tr th:only-of-type {\n",
       "        vertical-align: middle;\n",
       "    }\n",
       "\n",
       "    .dataframe tbody tr th {\n",
       "        vertical-align: top;\n",
       "    }\n",
       "\n",
       "    .dataframe thead th {\n",
       "        text-align: right;\n",
       "    }\n",
       "</style>\n",
       "<table border=\"1\" class=\"dataframe\">\n",
       "  <thead>\n",
       "    <tr style=\"text-align: right;\">\n",
       "      <th></th>\n",
       "      <th>Country</th>\n",
       "      <th>ISCED-A 2011</th>\n",
       "      <th>Gender</th>\n",
       "      <th>Age</th>\n",
       "      <th>Category</th>\n",
       "      <th>Value</th>\n",
       "      <th>Prevalence</th>\n",
       "    </tr>\n",
       "  </thead>\n",
       "  <tbody>\n",
       "    <tr>\n",
       "      <th>0</th>\n",
       "      <td>Austria</td>\n",
       "      <td>Below upper secondary education</td>\n",
       "      <td>Women</td>\n",
       "      <td>25-44 years</td>\n",
       "      <td>Employed</td>\n",
       "      <td>8.8432</td>\n",
       "      <td>315328.290351</td>\n",
       "    </tr>\n",
       "    <tr>\n",
       "      <th>1</th>\n",
       "      <td>Austria</td>\n",
       "      <td>Below upper secondary education</td>\n",
       "      <td>Men</td>\n",
       "      <td>25-44 years</td>\n",
       "      <td>Employed</td>\n",
       "      <td>2.7627</td>\n",
       "      <td>315328.290351</td>\n",
       "    </tr>\n",
       "    <tr>\n",
       "      <th>2</th>\n",
       "      <td>Austria</td>\n",
       "      <td>Below upper secondary education</td>\n",
       "      <td>Women</td>\n",
       "      <td>25-44 years</td>\n",
       "      <td>Active</td>\n",
       "      <td>10.6757</td>\n",
       "      <td>315328.290351</td>\n",
       "    </tr>\n",
       "    <tr>\n",
       "      <th>3</th>\n",
       "      <td>Austria</td>\n",
       "      <td>Below upper secondary education</td>\n",
       "      <td>Men</td>\n",
       "      <td>25-44 years</td>\n",
       "      <td>Active</td>\n",
       "      <td>13.7724</td>\n",
       "      <td>315328.290351</td>\n",
       "    </tr>\n",
       "    <tr>\n",
       "      <th>4</th>\n",
       "      <td>Austria</td>\n",
       "      <td>Upper secondary and post-secondary non-tertiar...</td>\n",
       "      <td>Women</td>\n",
       "      <td>25-44 years</td>\n",
       "      <td>Employed</td>\n",
       "      <td>5.3782</td>\n",
       "      <td>315328.290351</td>\n",
       "    </tr>\n",
       "  </tbody>\n",
       "</table>\n",
       "</div>"
      ],
      "text/plain": [
       "   Country                                       ISCED-A 2011 Gender  \\\n",
       "0  Austria                    Below upper secondary education  Women   \n",
       "1  Austria                    Below upper secondary education    Men   \n",
       "2  Austria                    Below upper secondary education  Women   \n",
       "3  Austria                    Below upper secondary education    Men   \n",
       "4  Austria  Upper secondary and post-secondary non-tertiar...  Women   \n",
       "\n",
       "           Age  Category    Value     Prevalence  \n",
       "0  25-44 years  Employed   8.8432  315328.290351  \n",
       "1  25-44 years  Employed   2.7627  315328.290351  \n",
       "2  25-44 years    Active  10.6757  315328.290351  \n",
       "3  25-44 years    Active  13.7724  315328.290351  \n",
       "4  25-44 years  Employed   5.3782  315328.290351  "
      ]
     },
     "execution_count": 89,
     "metadata": {},
     "output_type": "execute_result"
    }
   ],
   "source": [
    "#Checking for missing values and dropping the na values\n",
    "merged_data.isna().sum()\n",
    "\n",
    "merged_data = merged_data.dropna()\n",
    "\n",
    "temp = merged_data \n",
    "merged_data.head()\n"
   ]
  },
  {
   "cell_type": "code",
   "execution_count": 90,
   "id": "f3a6b384",
   "metadata": {},
   "outputs": [],
   "source": [
    "##Computing the toal population from percentage given for each country\n",
    "temp['Value'] = merged_data['Value'].multiply(merged_data['Prevalence'])/100\n"
   ]
  },
  {
   "cell_type": "code",
   "execution_count": 91,
   "id": "66488204",
   "metadata": {},
   "outputs": [
    {
     "data": {
      "text/plain": [
       "Text(0, 0.5, 'Number')"
      ]
     },
     "execution_count": 91,
     "metadata": {},
     "output_type": "execute_result"
    },
    {
     "data": {
      "image/png": "[encoded data removed]",
      "text/plain": [
       "<Figure size 720x504 with 1 Axes>"
      ]
     },
     "metadata": {},
     "output_type": "display_data"
    }
   ],
   "source": [
    "##Data exploratory analysis\n",
    "import numpy as np\n",
    "import matplotlib.pyplot as plt\n",
    "plt.style.use('ggplot')\n",
    "\n",
    "# histogram of the depresson value\n",
    "temp.Value.plot(kind='hist', color='purple', edgecolor='black', figsize=(10,7))\n",
    "plt.title('Distribution of Depression Prevalence', size=24)\n",
    "plt.xlabel('Depression Prevalence Value', size=18)\n",
    "plt.ylabel('Number', size=18)\n",
    "\n"
   ]
  },
  {
   "cell_type": "code",
   "execution_count": 92,
   "id": "872ef7c4",
   "metadata": {},
   "outputs": [
    {
     "name": "stderr",
     "output_type": "stream",
     "text": [
      "/var/folders/hb/qxp35y2s58b4krw7sw59zv7m0000gn/T/ipykernel_87943/4252169078.py:8: FutureWarning: Dropping of nuisance columns in DataFrame reductions (with 'numeric_only=None') is deprecated; in a future version this will raise TypeError.  Select only valid columns before calling the reduction.\n",
      "  temp.skew(axis = 0, skipna = True)\n"
     ]
    },
    {
     "data": {
      "text/plain": [
       "Value         2.967258\n",
       "Prevalence    1.236242\n",
       "logVal        0.087794\n",
       "sqrtVal       1.651541\n",
       "rcpVal        4.392272\n",
       "dtype: float64"
      ]
     },
     "execution_count": 92,
     "metadata": {},
     "output_type": "execute_result"
    }
   ],
   "source": [
    "##As the data is skewed to the right, transforming data by log transformation and checking skewness value \n",
    "temp['logVal'] = np.log(temp.Value)\n",
    "\n",
    "temp['sqrtVal'] = temp.Value**(1/2)\n",
    "\n",
    "temp['rcpVal'] = 1/temp.Value\n",
    "\n",
    "temp.skew(axis = 0, skipna = True)\n",
    "\n",
    "##Skewness value between -0.5 and 0.5 is considered fairly symmetrical and hence log transformation \n",
    "##works best here"
   ]
  },
  {
   "cell_type": "code",
   "execution_count": 93,
   "id": "1d4250c7",
   "metadata": {},
   "outputs": [
    {
     "data": {
      "text/plain": [
       "Text(0, 0.5, 'Number')"
      ]
     },
     "execution_count": 93,
     "metadata": {},
     "output_type": "execute_result"
    },
    {
     "data": {
      "image/png": "[encoded data removed]",
      "text/plain": [
       "<Figure size 720x504 with 1 Axes>"
      ]
     },
     "metadata": {},
     "output_type": "display_data"
    }
   ],
   "source": [
    "# histogram of the depresson value after transforming\n",
    "temp.logVal.plot(kind='hist', color='purple', edgecolor='black', figsize=(10,7))\n",
    "plt.title('Distribution of Depression Prevalence', size=24)\n",
    "plt.xlabel('Depression Prevalence Value', size=18)\n",
    "plt.ylabel('Number', size=18)\n",
    "\n"
   ]
  },
  {
   "cell_type": "code",
   "execution_count": 94,
   "id": "8bcbad61",
   "metadata": {},
   "outputs": [],
   "source": [
    "t = temp.groupby(['ISCED-A 2011','Gender','Category']).sum('logVal')\n",
    "t = t.reset_index()\n"
   ]
  },
  {
   "cell_type": "code",
   "execution_count": 95,
   "id": "d5fb7666",
   "metadata": {},
   "outputs": [
    {
     "data": {
      "image/png": "[encoded data removed]",
      "text/plain": [
       "<Figure size 864x432 with 1 Axes>"
      ]
     },
     "metadata": {},
     "output_type": "display_data"
    }
   ],
   "source": [
    "##Plotting graph for prevalence value both genders against level of education\n",
    "import seaborn as sb\n",
    "import matplotlib.pyplot as plt  \n",
    "\n",
    "fig, ax = plt.subplots(figsize=(12, 6))\n",
    "sb.barplot(x=\"ISCED-A 2011\",\n",
    "           y=\"Value\",\n",
    "           hue=\"Gender\",\n",
    "           data=t, ax=ax).set(title='Prevalence of Depression by level of education for both gender', \n",
    "                        xlabel='Education Level', ylabel='Prevalence')\n",
    "ax.set_xticklabels(ax.get_xticklabels(), rotation=45, horizontalalignment='right')\n",
    "plt.show()\n",
    "\n"
   ]
  },
  {
   "cell_type": "code",
   "execution_count": 96,
   "id": "ce3add2b",
   "metadata": {},
   "outputs": [
    {
     "data": {
      "image/png": "[encoded data removed]",
      "text/plain": [
       "<Figure size 864x432 with 1 Axes>"
      ]
     },
     "metadata": {},
     "output_type": "display_data"
    }
   ],
   "source": [
    "## ##Plotting graph for prevalence value both categories against level of education\n",
    "\n",
    "fig, ax = plt.subplots(figsize=(12, 6))\n",
    "sb.barplot(x=\"ISCED-A 2011\",\n",
    "           y=\"Value\",\n",
    "           hue=\"Category\",\n",
    "           data=t, ax=ax).set(title='Prevalence of Depression by category of employment', \n",
    "                        xlabel='Education Level', ylabel='Prevalence')\n",
    "ax.set_xticklabels(ax.get_xticklabels(), rotation=45, horizontalalignment='right')\n",
    "plt.show()"
   ]
  },
  {
   "cell_type": "markdown",
   "id": "902e63b3",
   "metadata": {},
   "source": [
    "Inferences: \n",
    "People with tertiary level of education exhibited the lowest depression percentage. \n",
    "Tertiary is the highest level of education among the other two i.e. below upper-secondary and upper-secondary. Also, higher the level of education a person acquired, lower values of depression were observed from the graph. This indicates level of education and depression rates are inversely proportional to each other. This could be because education provides employment, fixed income, economic independence and this in turn boosts self-esteem leading to better mental health.\n",
    "\n",
    "Further detailed analysis of the dataset as a whole shows in each level of education,\n",
    "the employed group has the least factor of depression amongst actively seeking employment and\n",
    "total number of people in that level. This indicates the employment is one factor in determining depression \n",
    "levels in an individual."
   ]
  },
  {
   "cell_type": "markdown",
   "id": "e35f0e04",
   "metadata": {},
   "source": [
    "Infereneces:\n",
    "Further detailed analysis of the dataset as a whole shows in each level of education,\n",
    "the employed group has the least factor of depression amongst actively seeking employment and\n",
    "total number of people in that level. This indicates the employment is one factor in determining depression \n",
    "levels in an individual."
   ]
  },
  {
   "cell_type": "code",
   "execution_count": 97,
   "id": "6bc1220d",
   "metadata": {},
   "outputs": [],
   "source": [
    "#Understanding relation between variables using Linear Regression\n",
    "import numpy as np\n",
    "from sklearn.linear_model import LinearRegression\n"
   ]
  },
  {
   "cell_type": "code",
   "execution_count": 98,
   "id": "e688b0b6",
   "metadata": {},
   "outputs": [],
   "source": [
    "model = LinearRegression()"
   ]
  },
  {
   "cell_type": "code",
   "execution_count": 99,
   "id": "f6dba20f",
   "metadata": {},
   "outputs": [],
   "source": [
    "##Converting categorical data into levels for fitting into models\n",
    "\n",
    "from sklearn.preprocessing import LabelEncoder\n",
    "X = temp[['ISCED-A 2011']].values\n",
    "education_level = LabelEncoder()\n",
    "X[:, 0] = education_level.fit_transform(X[:, 0])\n",
    "\n",
    "df_dummy = pd.get_dummies(temp, prefix='', prefix_sep='', \n",
    "                            columns=['Gender','Age','Category'])\n",
    "df_dummy.drop(['Women','45-64 years','Active'], axis=1, inplace=True)\n",
    "\n",
    "# # rename Gender_Male column\n",
    "df_dummy.rename(columns={'Men': 'Gender','25-44 years':'Age'}, inplace=True)\n",
    "\n",
    "df_dummy['Education_level'] = X[:, 0]\n",
    "\n"
   ]
  },
  {
   "cell_type": "code",
   "execution_count": 100,
   "id": "c428326d",
   "metadata": {},
   "outputs": [],
   "source": [
    "##Getting X and Y values to fit the model\n",
    "x = df_dummy['logVal']\n",
    "\n",
    "y = df_dummy[['Gender', 'Age','Employed','Education_level']]\n",
    "x = x.values.reshape(-1, 1)"
   ]
  },
  {
   "cell_type": "code",
   "execution_count": 101,
   "id": "f1df40a6",
   "metadata": {},
   "outputs": [],
   "source": [
    "##Fit the model\n",
    "model = model.fit(x,y)"
   ]
  },
  {
   "cell_type": "code",
   "execution_count": 102,
   "id": "727272f4",
   "metadata": {},
   "outputs": [
    {
     "data": {
      "text/plain": [
       "0.008216909029764519"
      ]
     },
     "execution_count": 102,
     "metadata": {},
     "output_type": "execute_result"
    }
   ],
   "source": [
    "##Check the rsquared value\n",
    "r_sq = model.score(x, y)\n",
    "r_sq\n"
   ]
  },
  {
   "cell_type": "code",
   "execution_count": 103,
   "id": "989a2337",
   "metadata": {},
   "outputs": [
    {
     "name": "stdout",
     "output_type": "stream",
     "text": [
      "Requirement already satisfied: sklearn in /Users/kirtananambiar/opt/anaconda3/envs/virtual/lib/python3.8/site-packages (0.0)\n",
      "Requirement already satisfied: scikit-learn in /Users/kirtananambiar/opt/anaconda3/envs/virtual/lib/python3.8/site-packages (from sklearn) (1.0.1)\n",
      "Requirement already satisfied: numpy>=1.14.6 in /Users/kirtananambiar/opt/anaconda3/envs/virtual/lib/python3.8/site-packages (from scikit-learn->sklearn) (1.21.2)\n",
      "Requirement already satisfied: scipy>=1.1.0 in /Users/kirtananambiar/opt/anaconda3/envs/virtual/lib/python3.8/site-packages (from scikit-learn->sklearn) (1.7.1)\n",
      "Requirement already satisfied: joblib>=0.11 in /Users/kirtananambiar/opt/anaconda3/envs/virtual/lib/python3.8/site-packages (from scikit-learn->sklearn) (1.1.0)\n",
      "Requirement already satisfied: threadpoolctl>=2.0.0 in /Users/kirtananambiar/opt/anaconda3/envs/virtual/lib/python3.8/site-packages (from scikit-learn->sklearn) (3.0.0)\n",
      "Note: you may need to restart the kernel to use updated packages.\n"
     ]
    }
   ],
   "source": [
    "pip install sklearn"
   ]
  },
  {
   "cell_type": "code",
   "execution_count": 104,
   "id": "a5e5f51b",
   "metadata": {},
   "outputs": [],
   "source": [
    "# imports\n",
    "import seaborn as sns\n",
    "import statsmodels.formula.api as smf\n",
    "from sklearn.linear_model import LinearRegression\n",
    "from sklearn import metrics\n",
    "#from sklearn.cross_validation import train_test_split\n",
    "import numpy as np\n",
    "\n",
    "# allow plots to appear directly in the notebook\n",
    "%matplotlib inline"
   ]
  },
  {
   "cell_type": "code",
   "execution_count": 105,
   "id": "bf6d0a60",
   "metadata": {},
   "outputs": [
    {
     "data": {
      "text/html": [
       "<table class=\"simpletable\">\n",
       "<caption>OLS Regression Results</caption>\n",
       "<tr>\n",
       "  <th>Dep. Variable:</th>         <td>logVal</td>      <th>  R-squared:         </th> <td>   0.053</td>\n",
       "</tr>\n",
       "<tr>\n",
       "  <th>Model:</th>                   <td>OLS</td>       <th>  Adj. R-squared:    </th> <td>   0.045</td>\n",
       "</tr>\n",
       "<tr>\n",
       "  <th>Method:</th>             <td>Least Squares</td>  <th>  F-statistic:       </th> <td>   7.163</td>\n",
       "</tr>\n",
       "<tr>\n",
       "  <th>Date:</th>             <td>Sat, 04 Dec 2021</td> <th>  Prob (F-statistic):</th> <td>1.89e-07</td>\n",
       "</tr>\n",
       "<tr>\n",
       "  <th>Time:</th>                 <td>16:21:02</td>     <th>  Log-Likelihood:    </th> <td> -1461.3</td>\n",
       "</tr>\n",
       "<tr>\n",
       "  <th>No. Observations:</th>      <td>   782</td>      <th>  AIC:               </th> <td>   2937.</td>\n",
       "</tr>\n",
       "<tr>\n",
       "  <th>Df Residuals:</th>          <td>   775</td>      <th>  BIC:               </th> <td>   2969.</td>\n",
       "</tr>\n",
       "<tr>\n",
       "  <th>Df Model:</th>              <td>     6</td>      <th>                     </th>     <td> </td>   \n",
       "</tr>\n",
       "<tr>\n",
       "  <th>Covariance Type:</th>      <td>nonrobust</td>    <th>                     </th>     <td> </td>   \n",
       "</tr>\n",
       "</table>\n",
       "<table class=\"simpletable\">\n",
       "<tr>\n",
       "            <td></td>              <th>coef</th>     <th>std err</th>      <th>t</th>      <th>P>|t|</th>  <th>[0.025</th>    <th>0.975]</th>  \n",
       "</tr>\n",
       "<tr>\n",
       "  <th>Intercept</th>            <td>   10.2527</td> <td>    0.148</td> <td>   69.219</td> <td> 0.000</td> <td>    9.962</td> <td>   10.544</td>\n",
       "</tr>\n",
       "<tr>\n",
       "  <th>Education_level[T.1]</th> <td>    0.4125</td> <td>    0.161</td> <td>    2.563</td> <td> 0.011</td> <td>    0.097</td> <td>    0.728</td>\n",
       "</tr>\n",
       "<tr>\n",
       "  <th>Education_level[T.2]</th> <td>   -0.2459</td> <td>    0.158</td> <td>   -1.558</td> <td> 0.120</td> <td>   -0.556</td> <td>    0.064</td>\n",
       "</tr>\n",
       "<tr>\n",
       "  <th>Education_level[T.3]</th> <td>    0.0594</td> <td>    0.157</td> <td>    0.377</td> <td> 0.706</td> <td>   -0.250</td> <td>    0.369</td>\n",
       "</tr>\n",
       "<tr>\n",
       "  <th>Gender</th>               <td>   -0.5117</td> <td>    0.113</td> <td>   -4.541</td> <td> 0.000</td> <td>   -0.733</td> <td>   -0.291</td>\n",
       "</tr>\n",
       "<tr>\n",
       "  <th>Age</th>                  <td>   -0.1814</td> <td>    0.113</td> <td>   -1.611</td> <td> 0.108</td> <td>   -0.403</td> <td>    0.040</td>\n",
       "</tr>\n",
       "<tr>\n",
       "  <th>Employed</th>             <td>   -0.1626</td> <td>    0.113</td> <td>   -1.443</td> <td> 0.149</td> <td>   -0.384</td> <td>    0.059</td>\n",
       "</tr>\n",
       "</table>\n",
       "<table class=\"simpletable\">\n",
       "<tr>\n",
       "  <th>Omnibus:</th>       <td>23.624</td> <th>  Durbin-Watson:     </th> <td>   0.218</td>\n",
       "</tr>\n",
       "<tr>\n",
       "  <th>Prob(Omnibus):</th> <td> 0.000</td> <th>  Jarque-Bera (JB):  </th> <td>  12.361</td>\n",
       "</tr>\n",
       "<tr>\n",
       "  <th>Skew:</th>          <td> 0.092</td> <th>  Prob(JB):          </th> <td> 0.00207</td>\n",
       "</tr>\n",
       "<tr>\n",
       "  <th>Kurtosis:</th>      <td> 2.412</td> <th>  Cond. No.          </th> <td>    6.32</td>\n",
       "</tr>\n",
       "</table><br/><br/>Notes:<br/>[1] Standard Errors assume that the covariance matrix of the errors is correctly specified."
      ],
      "text/plain": [
       "<class 'statsmodels.iolib.summary.Summary'>\n",
       "\"\"\"\n",
       "                            OLS Regression Results                            \n",
       "==============================================================================\n",
       "Dep. Variable:                 logVal   R-squared:                       0.053\n",
       "Model:                            OLS   Adj. R-squared:                  0.045\n",
       "Method:                 Least Squares   F-statistic:                     7.163\n",
       "Date:                Sat, 04 Dec 2021   Prob (F-statistic):           1.89e-07\n",
       "Time:                        16:21:02   Log-Likelihood:                -1461.3\n",
       "No. Observations:                 782   AIC:                             2937.\n",
       "Df Residuals:                     775   BIC:                             2969.\n",
       "Df Model:                           6                                         \n",
       "Covariance Type:            nonrobust                                         \n",
       "========================================================================================\n",
       "                           coef    std err          t      P>|t|      [0.025      0.975]\n",
       "----------------------------------------------------------------------------------------\n",
       "Intercept               10.2527      0.148     69.219      0.000       9.962      10.544\n",
       "Education_level[T.1]     0.4125      0.161      2.563      0.011       0.097       0.728\n",
       "Education_level[T.2]    -0.2459      0.158     -1.558      0.120      -0.556       0.064\n",
       "Education_level[T.3]     0.0594      0.157      0.377      0.706      -0.250       0.369\n",
       "Gender                  -0.5117      0.113     -4.541      0.000      -0.733      -0.291\n",
       "Age                     -0.1814      0.113     -1.611      0.108      -0.403       0.040\n",
       "Employed                -0.1626      0.113     -1.443      0.149      -0.384       0.059\n",
       "==============================================================================\n",
       "Omnibus:                       23.624   Durbin-Watson:                   0.218\n",
       "Prob(Omnibus):                  0.000   Jarque-Bera (JB):               12.361\n",
       "Skew:                           0.092   Prob(JB):                      0.00207\n",
       "Kurtosis:                       2.412   Cond. No.                         6.32\n",
       "==============================================================================\n",
       "\n",
       "Notes:\n",
       "[1] Standard Errors assume that the covariance matrix of the errors is correctly specified.\n",
       "\"\"\""
      ]
     },
     "execution_count": 105,
     "metadata": {},
     "output_type": "execute_result"
    }
   ],
   "source": [
    "### STATSMODELS ###\n",
    "\n",
    "# create a fitted model with all three features\n",
    "lm1 = smf.ols(formula='logVal ~ Gender + Age + Employed + Education_level', data=df_dummy).fit()\n",
    "\n",
    "# print the coefficients\n",
    "lm1.summary()"
   ]
  },
  {
   "cell_type": "code",
   "execution_count": 106,
   "id": "04d1d909",
   "metadata": {},
   "outputs": [],
   "source": [
    "### SCIKIT-LEARN ###\n",
    "\n",
    "###Creating dummy variables for category variables \n",
    "\n",
    "from sklearn.preprocessing import LabelEncoder\n",
    "X = temp[['ISCED-A 2011']].values\n",
    "education_level = LabelEncoder()\n",
    "X[:, 0] = education_level.fit_transform(X[:, 0])\n",
    "\n",
    "df = pd.get_dummies(temp, prefix='', prefix_sep='', \n",
    "                            columns=['Gender','Age','Category'])\n",
    "df.drop(['Women','45-64 years','Active'], axis=1, inplace=True)\n",
    "\n",
    "# # rename Gender_Male column\n",
    "df.rename(columns={'Men': 'Gender','25-44 years':'Age'}, inplace=True)\n",
    "\n",
    "df['Education_level'] = X[:, 0]\n",
    "\n",
    "\n"
   ]
  },
  {
   "cell_type": "code",
   "execution_count": 107,
   "id": "a8b78bd9",
   "metadata": {},
   "outputs": [],
   "source": [
    "# create X and Y to fit the model\n",
    "feature_cols = ['Gender', 'Age','Employed','Education_level']\n",
    "X = df[feature_cols]\n",
    "y = df.logVal\n",
    "\n"
   ]
  },
  {
   "cell_type": "code",
   "execution_count": 108,
   "id": "2df72161",
   "metadata": {},
   "outputs": [
    {
     "name": "stdout",
     "output_type": "stream",
     "text": [
      "Training Features Shape: (586, 4)\n",
      "Training Labels Shape: (586,)\n",
      "Testing Features Shape: (196, 4)\n",
      "Testing Labels Shape: (196,)\n"
     ]
    }
   ],
   "source": [
    "# Using Skicit-learn to split data into training and testing sets\n",
    "from sklearn.model_selection import train_test_split\n",
    "X_train, X_test, y_train, y_test = train_test_split(X, y, test_size = 0.25)\n",
    "  \n",
    "\n",
    "print('Training Features Shape:', X_train.shape)\n",
    "print('Training Labels Shape:', y_train.shape)\n",
    "print('Testing Features Shape:', X_test.shape)\n",
    "print('Testing Labels Shape:', y_test.shape)\n"
   ]
  },
  {
   "cell_type": "code",
   "execution_count": 109,
   "id": "49166453",
   "metadata": {},
   "outputs": [
    {
     "data": {
      "text/plain": [
       "RandomForestRegressor(n_estimators=1000, random_state=42)"
      ]
     },
     "execution_count": 109,
     "metadata": {},
     "output_type": "execute_result"
    }
   ],
   "source": [
    "#Creating Random Forest model for regression\n",
    "from sklearn.ensemble import RandomForestRegressor\n",
    "# Instantiate model with 1000 decision trees\n",
    "rf = RandomForestRegressor(n_estimators = 1000, random_state = 42)\n",
    "# Train the model on training data\n",
    "rf.fit(X_train, y_train)"
   ]
  },
  {
   "cell_type": "code",
   "execution_count": 110,
   "id": "aa423083",
   "metadata": {},
   "outputs": [
    {
     "name": "stdout",
     "output_type": "stream",
     "text": [
      "Mean Absolute Error: 1.37 degrees.\n"
     ]
    }
   ],
   "source": [
    "# Use the forest's predict method on the test data\n",
    "predictions = rf.predict(X_test)\n",
    "# Calculate the absolute errors\n",
    "errors = abs(predictions - y_test)\n",
    "# Print out the mean absolute error (mae)\n",
    "print('Mean Absolute Error:', round(np.mean(errors), 2), 'degrees.')\n"
   ]
  },
  {
   "cell_type": "code",
   "execution_count": 111,
   "id": "875bf404",
   "metadata": {},
   "outputs": [
    {
     "name": "stdout",
     "output_type": "stream",
     "text": [
      "Accuracy: 86.14 %.\n"
     ]
    }
   ],
   "source": [
    "# Calculate mean absolute percentage error and accuracy of model\n",
    "mape = 100 * (errors / y_test)\n",
    "# Calculate and display accuracy\n",
    "accuracy = 100 - np.mean(mape)\n",
    "print('Accuracy:', round(accuracy, 2), '%.')\n"
   ]
  },
  {
   "cell_type": "code",
   "execution_count": 114,
   "id": "dc14d148",
   "metadata": {},
   "outputs": [],
   "source": [
    "# Import tools needed for visualization\n",
    "from sklearn.tree import export_graphviz\n",
    "import pydot\n",
    "\n",
    "\n",
    "# Limit depth of tree to 3 levels\n",
    "rf_small = RandomForestRegressor(n_estimators=10, max_depth = 3)\n",
    "rf_small.fit(X_train, y_train)\n",
    "\n",
    "# Extracting the tree\n",
    "tree_small = rf_small.estimators_[5]\n",
    "                                  \n",
    "# Saving the tree as image\n",
    "export_graphviz(tree_small, out_file = 'small_tree.dot', feature_names = feature_cols, rounded = True,\n",
    "                precision = 1)\n",
    "(graph, ) = pydot.graph_from_dot_file('small_tree.dot')\n",
    "graph.write_png('/Users/kirtananambiar/Desktop/ProjectAIT/small_tree.png');"
   ]
  },
  {
   "cell_type": "code",
   "execution_count": 115,
   "id": "91e847b1",
   "metadata": {},
   "outputs": [
    {
     "name": "stdout",
     "output_type": "stream",
     "text": [
      "Variable: Education_level      Importance: 0.39\n",
      "Variable: Gender               Importance: 0.27\n",
      "Variable: Employed             Importance: 0.18\n",
      "Variable: Age                  Importance: 0.17\n"
     ]
    }
   ],
   "source": [
    "# Calculating numerical feature importances\n",
    "importances = list(rf.feature_importances_)\n",
    "\n",
    "feature_importances = [(feature, round(importance, 2)) for feature, importance in zip(feature_cols, importances)]\n",
    "\n",
    "feature_importances = sorted(feature_importances, key = lambda x: x[1], reverse = True)\n",
    "\n",
    "[print('Variable: {:20} Importance: {}'.format(*pair)) for pair in feature_importances];"
   ]
  },
  {
   "cell_type": "code",
   "execution_count": 116,
   "id": "0d9da1fe",
   "metadata": {},
   "outputs": [
    {
     "name": "stdout",
     "output_type": "stream",
     "text": [
      "Training Features Shape: (586, 4)\n",
      "Training Labels Shape: (586,)\n",
      "Testing Features Shape: (196, 4)\n",
      "Testing Labels Shape: (196,)\n",
      "Mean Absolute Error: 1.27 degrees.\n",
      "Accuracy: 86.45 %.\n"
     ]
    }
   ],
   "source": [
    "### SCIKIT-LEARN ###\n",
    "\n",
    "###Based on importance calculated for each feature, re-building the model on subset of features\n",
    "\n",
    "##Creating dummy variables for category var\n",
    "\n",
    "from sklearn.preprocessing import LabelEncoder\n",
    "X = temp[['ISCED-A 2011']].values\n",
    "education_level = LabelEncoder()\n",
    "X[:, 0] = education_level.fit_transform(X[:, 0])\n",
    "\n",
    "df = pd.get_dummies(temp, prefix='', prefix_sep='', \n",
    "                          columns=['Gender','Age','Category'])\n",
    "\n",
    "df.drop(['Men'], axis=1, inplace=True)\n",
    "\n",
    "df.rename(columns={'Women': 'Gender'}, inplace=True)\n",
    "\n",
    "df['Education_level'] = X[:, 0]\n",
    "\n",
    "\n",
    "\n",
    "##Subset of features\n",
    "feature_cols = ['Gender','25-44 years','45-64 years','Education_level']\n",
    "X = df[feature_cols]\n",
    "y = df.logVal\n",
    "\n",
    "# Using Skicit-learn to split data into training and testing sets\n",
    "from sklearn.model_selection import train_test_split\n",
    "X_train, X_test, y_train, y_test = train_test_split(X, y, test_size = 0.25)\n",
    "  \n",
    "\n",
    "print('Training Features Shape:', X_train.shape)\n",
    "print('Training Labels Shape:', y_train.shape)\n",
    "print('Testing Features Shape:', X_test.shape)\n",
    "print('Testing Labels Shape:', y_test.shape)\n",
    "\n",
    "\n",
    "##Model instantiation\n",
    "rf1 = RandomForestRegressor(n_estimators = 1000, random_state = 42)\n",
    "\n",
    "# Training model on training dataset\n",
    "rf1.fit(X_train, y_train)\n",
    "\n",
    "#Predicting the test data based on model created\n",
    "predictions = rf1.predict(X_test)\n",
    "\n",
    "# Calculating the absolute errors\n",
    "errors = abs(predictions - y_test)\n",
    "\n",
    "# Calculating mean absolute error (mae)\n",
    "print('Mean Absolute Error:', round(np.mean(errors), 2), 'degrees.')\n",
    "\n",
    "\n",
    "# Calculate percentage error \n",
    "ep = 100 * (errors / y_test)\n",
    "\n",
    "# Calculating  accuracy\n",
    "accuracy = 100 - np.mean(ep)\n",
    "print('Accuracy:', round(accuracy, 2), '%.')\n",
    "\n"
   ]
  },
  {
   "cell_type": "code",
   "execution_count": null,
   "id": "a858c3b9",
   "metadata": {},
   "outputs": [],
   "source": []
  }
 ],
 "metadata": {
  "kernelspec": {
   "display_name": "Python 3 (ipykernel)",
   "language": "python",
   "name": "python3"
  },
  "language_info": {
   "codemirror_mode": {
    "name": "ipython",
    "version": 3
   },
   "file_extension": ".py",
   "mimetype": "text/x-python",
   "name": "python",
   "nbconvert_exporter": "python",
   "pygments_lexer": "ipython3",
   "version": "3.9.7"
  }
 },
 "nbformat": 4,
 "nbformat_minor": 5
}
